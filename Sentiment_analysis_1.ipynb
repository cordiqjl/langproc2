{
 "cells": [
  {
   "cell_type": "code",
   "execution_count": 113,
   "metadata": {
    "collapsed": false
   },
   "outputs": [],
   "source": [
    "from nltk import sent_tokenize, word_tokenize\n",
    "\n",
    "import numpy\n",
    "from os import walk\n",
    "from os import listdir\n",
    "from os.path import isfile, join\n",
    "\n",
    "import random"
   ]
  },
  {
   "cell_type": "code",
   "execution_count": 141,
   "metadata": {
    "collapsed": false
   },
   "outputs": [],
   "source": [
    "def get_afinn(filename):\n",
    "    with open(filename) as w:\n",
    "        lines = [line.split('\\t') for line in w]\n",
    "    afinn = {}\n",
    "    for i, m in enumerate(lines):\n",
    "        afinn[m[0]] = int(m[1])\n",
    "    return afinn\n",
    "\n",
    "def line_sentiment(line, afinn):\n",
    "    words = line.lower().split()\n",
    "    i = 0\n",
    "    for each in words:\n",
    "        i += afinn.get(each, 0)\n",
    "    return i\n",
    "\n",
    "def get_data(path, path2):\n",
    "    filenames = []\n",
    "    data = {}\n",
    "    for root, dirs, files in walk(path):\n",
    "        for name in dirs:\n",
    "            pth = '//'.join((root, name))\n",
    "            filenames.append([(pth+'//'+f, f) for f in listdir(pth) if isfile(pth+'//'+f)])\n",
    "    for i in range(len(filenames[0])):\n",
    "        label = filenames[0][i][1].rsplit('.',1)[0]\n",
    "        for j in range(len(filenames)):\n",
    "            with open(filenames[j][i][0]) as f:\n",
    "                if j:\n",
    "                    data[label] += [line.split('\\n')[0] for line in f]\n",
    "                else:\n",
    "                    data[label] = [line.split('\\n')[0] for line in f]\n",
    "    pom = {}\n",
    "    filenames = []\n",
    "    for root, dirs, files in walk(path2):\n",
    "        for name in dirs:\n",
    "            if name == 'txt.parag':\n",
    "                pth = '//'.join((root, name))\n",
    "                filenames += [(pth+'//'+f, f) for f in listdir(pth) if isfile(pth+'//'+f)]\n",
    "\n",
    "    for i in range(len(filenames)):\n",
    "        with open(filenames[i][0]) as f:\n",
    "            pom[filenames[i][1].split('.')[0]] = ' '.join([line.split('\\n')[0] for line in f])\n",
    "    for i, m in enumerate(data.get('id')):\n",
    "        if i > 0:\n",
    "            data['full'].append(pom.get(m))\n",
    "        else:\n",
    "            pom.get(m)\n",
    "            data['full'] = [pom.get(m)]\n",
    "    return data\n",
    "\n",
    "def split(data, count, ratio=0.8):\n",
    "    test = {}\n",
    "    train = {}\n",
    "    keys = data.keys()\n",
    "    \n",
    "    shuffle = list(range(0,count))\n",
    "    random.shuffle(shuffle)\n",
    "    train_size = int(count * ratio)\n",
    "    test_size = count - train_size\n",
    "    \n",
    "    for i in shuffle[:train_size]:\n",
    "        for k in keys:\n",
    "            if k in train:\n",
    "                train[k].append(data[k][i])\n",
    "            else:\n",
    "                train[k] = [data[k][i]]\n",
    "\n",
    "    for i in shuffle[-test_size:]:\n",
    "        for k in keys:\n",
    "            if k in test:\n",
    "                test[k].append(data[k][i])\n",
    "            else:\n",
    "                test[k] = [data[k][i]]\n",
    "    return test, train"
   ]
  },
  {
   "cell_type": "code",
   "execution_count": 142,
   "metadata": {
    "collapsed": false
   },
   "outputs": [],
   "source": [
    "afinn = get_afinn(\"AFINN-111.txt\")"
   ]
  },
  {
   "cell_type": "code",
   "execution_count": 143,
   "metadata": {
    "collapsed": false
   },
   "outputs": [],
   "source": [
    "data = get_data('scaledata//scaledata//', 'scaledata//scale_whole_review//')\n",
    "#  id, label.3class, label.4class, rating, subj"
   ]
  },
  {
   "cell_type": "code",
   "execution_count": 144,
   "metadata": {
    "collapsed": false
   },
   "outputs": [],
   "source": [
    "test, train = split(data, len(data['id']))"
   ]
  },
  {
   "cell_type": "code",
   "execution_count": 148,
   "metadata": {
    "collapsed": false
   },
   "outputs": [
    {
     "name": "stdout",
     "output_type": "stream",
     "text": [
      "0.2\n",
      "26790\n",
      "0\n",
      "LITTLE NICKY (New Line) Starring: Adam Sandler, Harvey Keitel, Patricia Arquette, Rhys Ifans, Tom \"Tiny\" Lister, Kevin Nealon, Allen Covert. Screenplay: Tim Herlihy & Adam Sandler & Steve Brill. Producers: Jack Giarraputo and Robert Simonds. Director: Steve Brill. MPAA Rating: PG-13 (adult humor, profanity, violence) Running Time: 93 minutes. Reviewed by Scott Renshaw. Back in the late '70s and early '80s, Burt Reynolds started making movies that generally appeared to be cast parties committed to celluloid. Most notably in the CANNONBALL RUN films, Burt and a bunch of his pals apparently got together and decided, \"Wouldn't it really be great if we took enormous amounts of a studio's money and then just got together and screwed around for a couple of hours?\" The result was the kind of film where it was obvious that everyone in the movie was having loads and loads of fun. Viewers, on the other hand, generally found the experience about as much fun as having the cars in the film back up repeatedly over the base of their skulls. In LITTLE NICKY, Adam Sandler decides to hold a reunion for all his former \"Saturday Night Live\" cast-mates and cronies, only he forgot to bring a script. Or anything funny to do. Or anything to counteract the typically Y2K gratuitous crudeness that makes you want to swear off ever seeing movies again. The premise finds Sandler cast as Nicky, the milquetoast son of the Devil (Harvey Keitel). Dear old dad has recently decided that he's not ready to give up the throne to one of his progeny, which angers Nicky's nastier brothers Adrian (Rhys Ifans) and Cassius (Tom \"Tiny\" Lister). Nicky's Satanic siblings flee to the world above, determined to create a hell on earth (perhaps by financing additional Adam Sandler movies). This development threatens to upset the balance between good and evil, or something to that effect, so Nicky must go retrieve his brothers -- and make out with Patricia Arquette, and do a feature-length commercial for Popeye's Chicken -- before Daddy Devil disintegrates into a pile of special effects-generated body parts. Let's leave aside for a moment the fact that LITTLE NICKY is based on the morally itchy proposition that we're expected to root for the survival of the Devil. There's plenty more repugnant stuff in LITTLE NICKY that may make you wish you too were disintegrating into a pile of special effects-generated body parts (ideally without any sensory apparatus to take in the film itself). Sure, we could all just chuckle about it and shake our heads ruefully about the increasing popularity of such \"moron movies.\" That would mean giving a pass to (ostensible) gags based on children getting drunk and vomiting, dogs humping, jabs at a guy perhaps being gay, various bodily fluids, a pair of comic relief Satan-worshipers, a demon with a huge pair of breasts on his head and Hitler getting his daily punishment of large objects shoved up his rectum. Please, somebody throw me a pair of knee pads, 'cause they're aching from where I'm slapping them. Of course, Adam Sandler fans would likely consider such a sarcastic dismissal the whining of an out-of-touch guy who just doesn't get how brilliantly hysterical Sandler is. And such a predictable view might be remotely defensible if not for the fact that Sandler himself is reduced to the status of straight man for most of the film. LITTLE NICKY finds Sandler mugging and doing the requisite silly voice, yet generally shrinking into the background while his supporting characters toss out the lame punch lines. Like the good host, he defers to his \"SNL\" buddies (Carvey, Lovitz, Nealon, Schneider, writer Robert Smigel as the voice of Mr. Beefy the Bulldog), cast members from previous films (Allen Covert, Peter Dante, Jonathan Loughran) and even Harvey Keitel and Quentin Tarantino. This is a film that asks you to laugh harder at a performance by Quentin Tarantino than a performance by Adam Sandler. If you need to know anything more to keep you away, your soul is already lost. LITTLE NICKY finds a brief spark of life late in the film when Reese Witherspoon turns up as an angel in a heaven that's more like a sorority house. The gags about giggling cherubim are at least moderately amusing, and Witherspoon continues to show the comic chops that made her so good in ELECTION. But LITTLE NICKY can never get past the vibe that the whole thing was an excuse for Sandler to give work to his friends so they could riff on the set. You don't need to waste time being outraged by a film about a hero from hell, or by its stupidity and crass humor. You can save all your outrage for the idea that Adam Sandler is asking you to for your ticket dollars to finance his high-concept hot tub party. On the Renshaw scale of 0 . Visit Scott Renshaw's Screening Room http://www.inconnect.com/~renshaw/ *** Subscribe to receive new reviews directly by email! See the Screening Room for details, or reply to this message with subject \"Subscribe\".\n",
      "0\n",
      "screenplay : tim herlihy & adam sandler & steve brill . director : steve brill . mpaa rating : pg-13 ( adult humor , profanity , violence ) running time : 93 minutes . back in the late '70s and early '80s , burt reynolds started making movies that generally appeared to be cast parties committed to celluloid . most notably in the cannonball run films , burt and a bunch of his pals apparently got together and decided , \" wouldn't it really be great if we took enormous amounts of a studio's money and then just got together and screwed around for a couple of hours ? \" the result was the kind of film where it was obvious that everyone in the movie was having loads and loads of fun . viewers , on the other hand , generally found the experience about as much fun as having the cars in the film back up repeatedly over the base of their skulls . or anything funny to do . or anything to counteract the typically y2k gratuitous crudeness that makes you want to swear off ever seeing movies again . let's leave aside for a moment the fact that little nicky is based on the morally itchy proposition that we're expected to root for the survival of the devil . there's plenty more repugnant stuff in little nicky that may make you wish you too were disintegrating into a pile of special effects-generated body parts ( ideally without any sensory apparatus to take in the film itself ) . sure , we could all just chuckle about it and shake our heads ruefully about the increasing popularity of such \" moron movies . \" please , somebody throw me a pair of knee pads , 'cause they're aching from where i'm slapping them . of course , adam sandler fans would likely consider such a sarcastic dismissal the whining of an out-of-touch guy who just doesn't get how brilliantly hysterical sandler is . and such a predictable view might be remotely defensible if not for the fact that sandler himself is reduced to the status of straight man for most of the film . little nicky finds sandler mugging and doing the requisite silly voice , yet generally shrinking into the background while his supporting characters toss out the lame punch lines . this is a film that asks you to laugh harder at a performance by quentin tarantino than a performance by adam sandler . if you need to know anything more to keep you away , your soul is already lost . little nicky finds a brief spark of life late in the film when reese witherspoon turns up as an angel in a heaven that's more like a sorority house . the gags about giggling cherubim are at least moderately amusing , and witherspoon continues to show the comic chops that made her so good in election . you don't need to waste time being outraged by a film about a hero from hell , or by its stupidity and crass humor . see the screening room for details , or reply to this message with subject \" subscribe \" . \n"
     ]
    }
   ],
   "source": [
    "for k in train:\n",
    "    print(train[k][0])"
   ]
  },
  {
   "cell_type": "code",
   "execution_count": null,
   "metadata": {
    "collapsed": true
   },
   "outputs": [],
   "source": []
  },
  {
   "cell_type": "code",
   "execution_count": null,
   "metadata": {
    "collapsed": false
   },
   "outputs": [],
   "source": []
  },
  {
   "cell_type": "code",
   "execution_count": null,
   "metadata": {
    "collapsed": false
   },
   "outputs": [],
   "source": []
  },
  {
   "cell_type": "code",
   "execution_count": null,
   "metadata": {
    "collapsed": true
   },
   "outputs": [],
   "source": []
  }
 ],
 "metadata": {
  "anaconda-cloud": {},
  "kernelspec": {
   "display_name": "Python [default]",
   "language": "python",
   "name": "python3"
  },
  "language_info": {
   "codemirror_mode": {
    "name": "ipython",
    "version": 3
   },
   "file_extension": ".py",
   "mimetype": "text/x-python",
   "name": "python",
   "nbconvert_exporter": "python",
   "pygments_lexer": "ipython3",
   "version": "3.5.2"
  }
 },
 "nbformat": 4,
 "nbformat_minor": 1
}
