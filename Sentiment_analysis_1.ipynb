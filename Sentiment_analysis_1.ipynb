{
 "cells": [
  {
   "cell_type": "code",
   "execution_count": 1,
   "metadata": {
    "collapsed": false
   },
   "outputs": [],
   "source": [
    "from nltk import sent_tokenize, word_tokenize\n",
    "\n",
    "import numpy\n",
    "from os import walk\n",
    "from os import listdir\n",
    "from os.path import isfile, join\n",
    "\n",
    "import random"
   ]
  },
  {
   "cell_type": "code",
   "execution_count": 2,
   "metadata": {
    "collapsed": false
   },
   "outputs": [],
   "source": [
    "def get_afinn(filename):\n",
    "    with open(filename) as w:\n",
    "        lines = [line.split('\\t') for line in w]\n",
    "    afinn = {}\n",
    "    for i, m in enumerate(lines):\n",
    "        afinn[m[0]] = int(m[1])\n",
    "    return afinn\n",
    "\n",
    "def line_sentiment(line, afinn):\n",
    "    words = line.lower().split()\n",
    "    i = 0\n",
    "    for each in words:\n",
    "        i += afinn.get(each, 0)\n",
    "    return i\n",
    "\n",
    "def get_data(path):\n",
    "    filenames = []\n",
    "    data = {}\n",
    "    for root, dirs, files in walk(path):\n",
    "        for name in dirs:\n",
    "            pth = '//'.join((root, name))\n",
    "            filenames.append([(pth+'//'+f, f) for f in listdir(pth) if isfile(pth+'//'+f)])\n",
    "    for i in range(len(filenames[0])):\n",
    "        label = filenames[0][i][1].rsplit('.',1)[0]\n",
    "        for j in range(len(filenames)):\n",
    "            with open(filenames[j][i][0]) as f:\n",
    "                if j:\n",
    "                    data[label] += [line.split('\\n')[0] for line in f]\n",
    "                else:\n",
    "                    data[label] = [line.split('\\n')[0] for line in f]\n",
    "    return data"
   ]
  },
  {
   "cell_type": "code",
   "execution_count": 3,
   "metadata": {
    "collapsed": false
   },
   "outputs": [],
   "source": [
    "afinn = get_afinn(\"AFINN-111.txt\")"
   ]
  },
  {
   "cell_type": "code",
   "execution_count": 4,
   "metadata": {
    "collapsed": false
   },
   "outputs": [],
   "source": [
    "data = get_data('scaledata//scaledata//')\n",
    "#  id, label.3class, label.4class, rating, subj"
   ]
  },
  {
   "cell_type": "code",
   "execution_count": 18,
   "metadata": {
    "collapsed": false
   },
   "outputs": [],
   "source": [
    "def split(data, count, ratio=0.8):\n",
    "    test = {}\n",
    "    train = {}\n",
    "    keys = data.keys()\n",
    "    \n",
    "    shuffle = list(range(0,count))\n",
    "    random.shuffle(shuffle)\n",
    "    train_size = int(count * ratio)\n",
    "    test_size = count - train_size\n",
    "    \n",
    "    for i in shuffle[:train_size]:\n",
    "        for k in keys:\n",
    "            if k in train:\n",
    "                train[k].append(data[k][i])\n",
    "            else:\n",
    "                train[k] = [data[k][i]]\n",
    "\n",
    "    for i in shuffle[-test_size:]:\n",
    "        for k in keys:\n",
    "            if k in test:\n",
    "                test[k].append(data[k][i])\n",
    "            else:\n",
    "                test[k] = [data[k][i]]\n",
    "    return test, train"
   ]
  },
  {
   "cell_type": "code",
   "execution_count": 21,
   "metadata": {
    "collapsed": false
   },
   "outputs": [
    {
     "name": "stdout",
     "output_type": "stream",
     "text": [
      "1002 4004\n"
     ]
    }
   ],
   "source": [
    "test, train = split(data, len(data['id']))\n",
    "print(len(test['id']), len(train['id']))"
   ]
  },
  {
   "cell_type": "code",
   "execution_count": null,
   "metadata": {
    "collapsed": false
   },
   "outputs": [],
   "source": []
  },
  {
   "cell_type": "code",
   "execution_count": null,
   "metadata": {
    "collapsed": true
   },
   "outputs": [],
   "source": []
  }
 ],
 "metadata": {
  "anaconda-cloud": {},
  "kernelspec": {
   "display_name": "Python [default]",
   "language": "python",
   "name": "python3"
  },
  "language_info": {
   "codemirror_mode": {
    "name": "ipython",
    "version": 3
   },
   "file_extension": ".py",
   "mimetype": "text/x-python",
   "name": "python",
   "nbconvert_exporter": "python",
   "pygments_lexer": "ipython3",
   "version": "3.5.2"
  }
 },
 "nbformat": 4,
 "nbformat_minor": 1
}
